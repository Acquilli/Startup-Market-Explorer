{
 "cells": [
  {
   "cell_type": "code",
   "execution_count": 11,
   "id": "8b6faeab",
   "metadata": {},
   "outputs": [],
   "source": [
    "import pandas as pd\n",
    "import os, sys\n",
    "sys.path.append(os.path.abspath(\"..\"))\n",
    "\n",
    "from src.db_connect import engine"
   ]
  },
  {
   "cell_type": "markdown",
   "id": "fdcb7353",
   "metadata": {},
   "source": [
    "Loading the view from SQL"
   ]
  },
  {
   "cell_type": "code",
   "execution_count": 14,
   "id": "3ea3bcfd",
   "metadata": {},
   "outputs": [
    {
     "name": "stdout",
     "output_type": "stream",
     "text": [
      "(1578, 7)\n",
      "  Country Name Country Code  Year  gdp_value  inflation_value  \\\n",
      "0      Armenia          ARM  2006  42.225458         2.892357   \n",
      "1    Australia          AUS  2006  27.504814         3.555288   \n",
      "2      Austria          AUT  2006  23.829270         1.441549   \n",
      "3      Belgium          BEL  2006  23.970549         1.791208   \n",
      "4      Belarus          BLR  2006  32.184137         6.997129   \n",
      "\n",
      "   new_business_density_value  rnd_value  \n",
      "0                    1.212805    0.24057  \n",
      "1                    9.702726    2.17862  \n",
      "2                    0.556244    2.35923  \n",
      "3                    3.022525    1.82269  \n",
      "4                    0.280960    0.66065  \n"
     ]
    }
   ],
   "source": [
    "df = pd.read_sql('SELECT * FROM startup_metrics_view', engine)\n",
    "print(df.shape)\n",
    "print(df.head())"
   ]
  },
  {
   "cell_type": "markdown",
   "id": "8e0d3a92",
   "metadata": {},
   "source": []
  },
  {
   "cell_type": "code",
   "execution_count": null,
   "id": "27bbd70d",
   "metadata": {},
   "outputs": [],
   "source": []
  }
 ],
 "metadata": {
  "kernelspec": {
   "display_name": ".venv (3.9.12)",
   "language": "python",
   "name": "python3"
  },
  "language_info": {
   "codemirror_mode": {
    "name": "ipython",
    "version": 3
   },
   "file_extension": ".py",
   "mimetype": "text/x-python",
   "name": "python",
   "nbconvert_exporter": "python",
   "pygments_lexer": "ipython3",
   "version": "3.9.12"
  }
 },
 "nbformat": 4,
 "nbformat_minor": 5
}
