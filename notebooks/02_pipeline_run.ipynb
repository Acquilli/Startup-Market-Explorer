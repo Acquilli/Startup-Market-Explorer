{
 "cells": [
  {
   "cell_type": "code",
   "execution_count": 2,
   "id": "46db8d25",
   "metadata": {},
   "outputs": [],
   "source": [
    "import sys, os\n",
    "sys.path.append(os.path.abspath(\"..\"))\n",
    "\n",
    "from src.db_connect import engine\n",
    "from src.data_preprocessing import process_csv"
   ]
  },
  {
   "cell_type": "markdown",
   "id": "7288efcf",
   "metadata": {},
   "source": [
    "Data files: CSV name -> Table name"
   ]
  },
  {
   "cell_type": "code",
   "execution_count": 4,
   "id": "94ca2b0b",
   "metadata": {},
   "outputs": [
    {
     "name": "stdout",
     "output_type": "stream",
     "text": [
      "Processed gdp.csv -> saved to Table gdp_data\n",
      "Processed inflation.csv -> saved to Table inflation_data\n",
      "Processed new_business_density.csv -> saved to Table new_business_density_data\n",
      "Processed r&d.csv -> saved to Table r&d_data\n"
     ]
    }
   ],
   "source": [
    "datasets = {\n",
    "    \"gdp.csv\": \"gdp_data\",\n",
    "    \"inflation.csv\": \"inflation_data\",\n",
    "    \"new_business_density.csv\": \"new_business_density_data\",\n",
    "    \"r&d.csv\": \"r&d_data\",\n",
    "}\n",
    "\n",
    "for file_name, table_name in datasets.items():\n",
    "    process_csv(file_name, table_name, engine)"
   ]
  }
 ],
 "metadata": {
  "kernelspec": {
   "display_name": ".venv (3.9.12)",
   "language": "python",
   "name": "python3"
  },
  "language_info": {
   "codemirror_mode": {
    "name": "ipython",
    "version": 3
   },
   "file_extension": ".py",
   "mimetype": "text/x-python",
   "name": "python",
   "nbconvert_exporter": "python",
   "pygments_lexer": "ipython3",
   "version": "3.9.12"
  }
 },
 "nbformat": 4,
 "nbformat_minor": 5
}
